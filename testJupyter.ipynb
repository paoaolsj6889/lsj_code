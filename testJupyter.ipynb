{
 "cells": [
  {
   "cell_type": "code",
   "execution_count": null,
   "metadata": {
    "code_folding": [
     5,
     14,
     21
    ]
   },
   "outputs": [],
   "source": [
    "import requests\n",
    "from bs4 import BeautifulSoup\n",
    "import json\n",
    "\n",
    "\n",
    "def request_get(url,headers):\n",
    "    res = requests.get(url,headers=headers)\n",
    "    if res.status_code == 200:\n",
    "        return res\n",
    "    else:\n",
    "        print(\"返回错误！\")\n",
    "        print(res.status_code)\n",
    "        return\n",
    "\n",
    "def get_url_list(tags):\n",
    "    tag_url_list = []\n",
    "    for tag in tags:\n",
    "        tag_url_list.append(\"https://unsplash.com/t/\"+tag)\n",
    "    return tag_url_list\n",
    "\n",
    "#https://unsplash.com/napi/collections/3330448/photos?page=3&per_page=10&order_by=latest\n",
    "def get_ajax_url_list(tags,page_num):\n",
    "    if page_num>2:\n",
    "        ajax_url_list = []\n",
    "        for tag in tags:\n",
    "            if tag=='wallpapers':\n",
    "                url_code = '1065976'\n",
    "                i = 3\n",
    "                while i<=page_num:\n",
    "                    ajax_url_list.append('https://unsplash.com/napi/collections/'+url_code+'/photos?page='+str(i)+'&per_page=10&order_by=latest')\n",
    "                    i = i+1\n",
    "            elif tag=='nature':\n",
    "                url_code = '3330448'\n",
    "                j = 3\n",
    "                while j<=page_num:\n",
    "                    ajax_url_list.append('https://unsplash.com/napi/collections/'+url_code+'/photos?page='+str(j)+'&per_page=10&order_by=latest')\n",
    "                    j = j+1\n",
    "        return ajax_url_list\n",
    "    else:\n",
    "        return\n",
    "\n",
    "tags = ['nature']\n",
    "ajax_url_list = get_ajax_url_list(tags,5)\n",
    "print(ajax_url_list)\n",
    "\n",
    "ajax_headers = {'user-agent':'Mozilla/5.0 (Windows NT 10.0; Win64; x64) AppleWebKit/537.36 (KHTML, like Gecko) Chrome/80.0.3987.149 Safari/537.36',\n",
    "                'referer':'https://unsplash.com/t/wallpapers',\n",
    "                'viewport-width':'1034'}\n",
    "img_urls = []\n",
    "for ajax_url in ajax_url_list:\n",
    "    res_json = request_get(ajax_url,headers=ajax_headers)\n",
    "    print(res_json.text)\n",
    "    json_data = json.loads(res_json.text)\n",
    "    for index in range(len(json_data)):\n",
    "        img_urls.append(json_data[index]['urls']['small'])\n",
    "\n",
    "print(img_urls)\n",
    "img_headers = {'User-Agent':'Mozilla/5.0 (Windows NT 10.0; Win64; x64) AppleWebKit/537.36 (KHTML, like Gecko) Chrome/80.0.3987.149 Safari/537.36',\n",
    "               'Referer':'https://unsplash.com/',\n",
    "               'Sec-Fetch-Dest':'image'}\n",
    "k = 1\n",
    "for img_url in img_urls:\n",
    "    res_img = request_get(img_url,headers=img_headers)\n",
    "    with open('img'+str(k)+'.jpg','wb') as f:\n",
    "        f.write(res_img.content)\n",
    "        f.close()\n",
    "    k = k+1\n",
    "print(\"it's done\")"
   ]
  },
  {
   "cell_type": "code",
   "execution_count": 8,
   "metadata": {
    "scrolled": true
   },
   "outputs": [
    {
     "name": "stdout",
     "output_type": "stream",
     "text": [
      "['https://unsplash.com/napi/collections/3330448/photos?page=3&per_page=10&order_by=latest', 'https://unsplash.com/napi/collections/3330448/photos?page=4&per_page=10&order_by=latest', 'https://unsplash.com/napi/collections/3330448/photos?page=5&per_page=10&order_by=latest']\n"
     ]
    }
   ],
   "source": [
    "print(ajax_url_list)\n",
    "m = 1+2"
   ]
  },
  {
   "cell_type": "code",
   "execution_count": 9,
   "metadata": {},
   "outputs": [
    {
     "name": "stdout",
     "output_type": "stream",
     "text": [
      "3\n"
     ]
    }
   ],
   "source": [
    "print(m)"
   ]
  },
  {
   "cell_type": "code",
   "execution_count": 11,
   "metadata": {
    "scrolled": true
   },
   "outputs": [
    {
     "name": "stdout",
     "output_type": "stream",
     "text": [
      "['https://images.unsplash.com/photo-1554147090-e1221a04a025?ixlib=rb-1.2.1&q=80&fm=jpg&crop=entropy&cs=tinysrgb&w=400&fit=max&ixid=eyJhcHBfaWQiOjEyMDd9', 'https://images.unsplash.com/photo-1564107628966-daff03746bee?ixlib=rb-1.2.1&q=80&fm=jpg&crop=entropy&cs=tinysrgb&w=400&fit=max&ixid=eyJhcHBfaWQiOjEyMDd9', 'https://images.unsplash.com/photo-1584645511189-2a471d586ac2?ixlib=rb-1.2.1&q=80&fm=jpg&crop=entropy&cs=tinysrgb&w=400&fit=max&ixid=eyJhcHBfaWQiOjEyMDd9', 'https://images.unsplash.com/photo-1584732977276-4ce5ed52576d?ixlib=rb-1.2.1&q=80&fm=jpg&crop=entropy&cs=tinysrgb&w=400&fit=max&ixid=eyJhcHBfaWQiOjEyMDd9', 'https://images.unsplash.com/photo-1584743241753-a727f5d13ff4?ixlib=rb-1.2.1&q=80&fm=jpg&crop=entropy&cs=tinysrgb&w=400&fit=max&ixid=eyJhcHBfaWQiOjEyMDd9', 'https://images.unsplash.com/photo-1584645511184-d2265e1cbaad?ixlib=rb-1.2.1&q=80&fm=jpg&crop=entropy&cs=tinysrgb&w=400&fit=max&ixid=eyJhcHBfaWQiOjEyMDd9', 'https://images.unsplash.com/photo-1584829344597-7b648c16fe05?ixlib=rb-1.2.1&q=80&fm=jpg&crop=entropy&cs=tinysrgb&w=400&fit=max&ixid=eyJhcHBfaWQiOjEyMDd9', 'https://images.unsplash.com/photo-1569412148958-600837f89a65?ixlib=rb-1.2.1&q=80&fm=jpg&crop=entropy&cs=tinysrgb&w=400&fit=max&ixid=eyJhcHBfaWQiOjEyMDd9', 'https://images.unsplash.com/photo-1475778057357-d35f37fa89dd?ixlib=rb-1.2.1&q=80&fm=jpg&crop=entropy&cs=tinysrgb&w=400&fit=max&ixid=eyJhcHBfaWQiOjEyMDd9', 'https://images.unsplash.com/photo-1565098735462-5db3412ac4cb?ixlib=rb-1.2.1&q=80&fm=jpg&crop=entropy&cs=tinysrgb&w=400&fit=max&ixid=eyJhcHBfaWQiOjEyMDd9', 'https://images.unsplash.com/photo-1532040675891-5991e7e3d0cd?ixlib=rb-1.2.1&q=80&fm=jpg&crop=entropy&cs=tinysrgb&w=400&fit=max&ixid=eyJhcHBfaWQiOjEyMDd9', 'https://images.unsplash.com/photo-1523730205978-59fd1b2965e3?ixlib=rb-1.2.1&q=80&fm=jpg&crop=entropy&cs=tinysrgb&w=400&fit=max&ixid=eyJhcHBfaWQiOjEyMDd9', 'https://images.unsplash.com/photo-1501862700950-18382cd41497?ixlib=rb-1.2.1&q=80&fm=jpg&crop=entropy&cs=tinysrgb&w=400&fit=max&ixid=eyJhcHBfaWQiOjEyMDd9', 'https://images.unsplash.com/photo-1503264116251-35a269479413?ixlib=rb-1.2.1&q=80&fm=jpg&crop=entropy&cs=tinysrgb&w=400&fit=max&ixid=eyJhcHBfaWQiOjEyMDd9', 'https://images.unsplash.com/photo-1532798369041-b33eb576ef16?ixlib=rb-1.2.1&q=80&fm=jpg&crop=entropy&cs=tinysrgb&w=400&fit=max&ixid=eyJhcHBfaWQiOjEyMDd9', 'https://images.unsplash.com/photo-1505851543971-19811a8f4c21?ixlib=rb-1.2.1&q=80&fm=jpg&crop=entropy&cs=tinysrgb&w=400&fit=max&ixid=eyJhcHBfaWQiOjEyMDd9', 'https://images.unsplash.com/photo-1550871425-dae11d7024c4?ixlib=rb-1.2.1&q=80&fm=jpg&crop=entropy&cs=tinysrgb&w=400&fit=max&ixid=eyJhcHBfaWQiOjEyMDd9', 'https://images.unsplash.com/photo-1550788696-45d0a14c9f9a?ixlib=rb-1.2.1&q=80&fm=jpg&crop=entropy&cs=tinysrgb&w=400&fit=max&ixid=eyJhcHBfaWQiOjEyMDd9', 'https://images.unsplash.com/photo-1548063032-ce4d0e5aab66?ixlib=rb-1.2.1&q=80&fm=jpg&crop=entropy&cs=tinysrgb&w=400&fit=max&ixid=eyJhcHBfaWQiOjEyMDd9', 'https://images.unsplash.com/photo-1540979388789-6cee28a1cdc9?ixlib=rb-1.2.1&q=80&fm=jpg&crop=entropy&cs=tinysrgb&w=400&fit=max&ixid=eyJhcHBfaWQiOjEyMDd9', 'https://images.unsplash.com/photo-1496767979399-7211020832ca?ixlib=rb-1.2.1&q=80&fm=jpg&crop=entropy&cs=tinysrgb&w=400&fit=max&ixid=eyJhcHBfaWQiOjEyMDd9', 'https://images.unsplash.com/photo-1496347646636-ea47f7d6b37b?ixlib=rb-1.2.1&q=80&fm=jpg&crop=entropy&cs=tinysrgb&w=400&fit=max&ixid=eyJhcHBfaWQiOjEyMDd9', 'https://images.unsplash.com/photo-1584267385289-81fdaa6efe7a?ixlib=rb-1.2.1&q=80&fm=jpg&crop=entropy&cs=tinysrgb&w=400&fit=max&ixid=eyJhcHBfaWQiOjEyMDd9', 'https://images.unsplash.com/photo-1579033461355-81146c64dd58?ixlib=rb-1.2.1&q=80&fm=jpg&crop=entropy&cs=tinysrgb&w=400&fit=max&ixid=eyJhcHBfaWQiOjEyMDd9', 'https://images.unsplash.com/photo-1579032327795-e3cb02822e38?ixlib=rb-1.2.1&q=80&fm=jpg&crop=entropy&cs=tinysrgb&w=400&fit=max&ixid=eyJhcHBfaWQiOjEyMDd9', 'https://images.unsplash.com/photo-1568101812223-e2f87a69fa27?ixlib=rb-1.2.1&q=80&fm=jpg&crop=entropy&cs=tinysrgb&w=400&fit=max&ixid=eyJhcHBfaWQiOjEyMDd9', 'https://images.unsplash.com/photo-1571903753771-ce22acbc441c?ixlib=rb-1.2.1&q=80&fm=jpg&crop=entropy&cs=tinysrgb&w=400&fit=max&ixid=eyJhcHBfaWQiOjEyMDd9', 'https://images.unsplash.com/photo-1546423237-abf72876d79d?ixlib=rb-1.2.1&q=80&fm=jpg&crop=entropy&cs=tinysrgb&w=400&fit=max&ixid=eyJhcHBfaWQiOjEyMDd9', 'https://images.unsplash.com/photo-1545911678-09d0843ccef1?ixlib=rb-1.2.1&q=80&fm=jpg&crop=entropy&cs=tinysrgb&w=400&fit=max&ixid=eyJhcHBfaWQiOjEyMDd9', 'https://images.unsplash.com/photo-1584382388694-a661ba2b88c6?ixlib=rb-1.2.1&q=80&fm=jpg&crop=entropy&cs=tinysrgb&w=400&fit=max&ixid=eyJhcHBfaWQiOjEyMDd9']\n"
     ]
    }
   ],
   "source": [
    "print(img_urls)"
   ]
  },
  {
   "cell_type": "code",
   "execution_count": null,
   "metadata": {},
   "outputs": [],
   "source": []
  }
 ],
 "metadata": {
  "kernelspec": {
   "display_name": "Python 3",
   "language": "python",
   "name": "python3"
  },
  "language_info": {
   "codemirror_mode": {
    "name": "ipython",
    "version": 3
   },
   "file_extension": ".py",
   "mimetype": "text/x-python",
   "name": "python",
   "nbconvert_exporter": "python",
   "pygments_lexer": "ipython3",
   "version": "3.8.2"
  }
 },
 "nbformat": 4,
 "nbformat_minor": 4
}
